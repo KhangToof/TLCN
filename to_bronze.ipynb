{
 "cells": [
  {
   "cell_type": "code",
   "execution_count": 1,
   "id": "044d678c-95d7-47b2-85be-a6c3e29557a9",
   "metadata": {},
   "outputs": [],
   "source": [
    "from minio import Minio\n",
    "from minio.error import S3Error\n",
    "import io\n",
    "import pyarrow as pa\n",
    "import pyarrow.parquet as pq\n",
    "import pyspark\n",
    "from pyspark import SparkContext\n",
    "from pyspark.sql import SparkSession\n",
    "from pyspark.sql import SQLContext"
   ]
  },
  {
   "cell_type": "code",
   "execution_count": 2,
   "id": "dcd1d2d3-e06d-4023-92c9-e106fe01dbfc",
   "metadata": {},
   "outputs": [
    {
     "name": "stdout",
     "output_type": "stream",
     "text": [
      "bronze 2024-09-16 15:51:21.440000+00:00\n"
     ]
    }
   ],
   "source": [
    "#conn_minio\n",
    "from conn_minio import *\n",
    "minioClient = connect_minio()\n",
    "\n",
    "#try catch list buckets\n",
    "try: \n",
    "    buckets = minioClient.list_buckets()\n",
    "    for bucket in buckets:\n",
    "        print(bucket.name, bucket.creation_date)\n",
    "except S3Error as err:\n",
    "    print(err)\n"
   ]
  },
  {
   "cell_type": "code",
   "execution_count": 3,
   "id": "e25683eb",
   "metadata": {},
   "outputs": [],
   "source": [
    "# #conn_mongo\n",
    "# from conn_mongodb import connect_mongodb\n",
    "# mongo_url = 'mongodb://127.0.0.1/'\n",
    "# spark = connect_mongodb()\n",
    "\n",
    "# bronze_df = spark.read.format(\"com.mongodb.spark.sql.DefaultSource\") \\\n",
    "# .option('spark.mongodb.input.uri', mongo_url) \\\n",
    "# .option('spark.mongodb.input.database', 'yelp_dataset') \\\n",
    "# .option('spark.mongodb.input.collection', 'review') \\\n",
    "# .load()\n",
    "\n",
    "# bronze_df.head(1)"
   ]
  },
  {
   "cell_type": "code",
   "execution_count": 4,
   "id": "b5d889d8",
   "metadata": {},
   "outputs": [
    {
     "name": "stdout",
     "output_type": "stream",
     "text": [
      "Processing collection: business\n",
      "Successfully processed collection: business\n",
      "Processing collection: checkin\n",
      "Successfully processed collection: checkin\n",
      "Processing collection: tip\n",
      "Successfully processed collection: tip\n",
      "Processing collection: user\n",
      "Successfully processed collection: user\n",
      "Processing collection: review\n",
      "Successfully processed collection: review\n"
     ]
    }
   ],
   "source": [
    "collections = ['business', 'checkin', 'tip', 'user', 'review']\n",
    "from conn_mongodb import connect_mongodb\n",
    "mongo_url = 'mongodb://127.0.0.1/'\n",
    "spark = connect_mongodb()\n",
    "\n",
    "for collection in collections:\n",
    "    try:\n",
    "        print(f\"Processing collection: {collection}\")\n",
    "        bronze_df = spark.read.format(\"com.mongodb.spark.sql.DefaultSource\") \\\n",
    "            .option('spark.mongodb.input.uri', mongo_url) \\\n",
    "            .option('spark.mongodb.input.database', 'yelp_dataset') \\\n",
    "            .option('spark.mongodb.input.collection', collection) \\\n",
    "            .load()\n",
    "        bronze_df.repartition(1).write.format(\"parquet\").mode(\"append\").save(f'parquet/{collection}')\n",
    "        print(f\"Successfully processed collection: {collection}\")\n",
    "    except Exception as e:\n",
    "        print(f\"Error processing collection {collection}: {e}\")\n"
   ]
  },
  {
   "cell_type": "code",
   "execution_count": 10,
   "id": "0dc070c3",
   "metadata": {},
   "outputs": [
    {
     "name": "stdout",
     "output_type": "stream",
     "text": [
      "Processing collection: business\n",
      "Successfully renamed collection: business\n",
      "Processing collection: checkin\n",
      "Successfully renamed collection: checkin\n",
      "Processing collection: tip\n",
      "Successfully renamed collection: tip\n",
      "Processing collection: user\n",
      "Successfully renamed collection: user\n",
      "Processing collection: review\n",
      "Successfully renamed collection: review\n"
     ]
    }
   ],
   "source": [
    "#rename parquet files\n",
    "import os\n",
    "import shutil\n",
    "for collection in collections:\n",
    "    try:\n",
    "        for file_name in os.listdir(f'parquet/{collection}'):\n",
    "            if file_name.endswith(\".parquet\"):\n",
    "                print(f\"Processing collection: {collection}\")\n",
    "                os.rename(f'parquet/{collection}/{file_name}', f'parquet/{collection}/{collection}.parquet')\n",
    "                print(f\"Successfully renamed collection: {collection}\")\n",
    "    except Exception as e:\n",
    "            print(f\"Error renaming collection {collection}: {e}\")"
   ]
  },
  {
   "cell_type": "code",
   "execution_count": 11,
   "id": "81a6e829",
   "metadata": {},
   "outputs": [
    {
     "name": "stdout",
     "output_type": "stream",
     "text": [
      "Successfully pushed collection: business to minio\n",
      "Successfully pushed collection: checkin to minio\n",
      "Successfully pushed collection: tip to minio\n",
      "Successfully pushed collection: user to minio\n",
      "Successfully pushed collection: review to minio\n"
     ]
    }
   ],
   "source": [
    "#push to minio\n",
    "bucket_name = 'bronze'\n",
    "\n",
    "for collection in collections:\n",
    "    try:\n",
    "        file = f'parquet/{collection}/{collection}.parquet'\n",
    "        obj = f'{collection}.parquet'\n",
    "        minioClient.fput_object(bucket_name, obj, file)\n",
    "        print(f\"Successfully pushed collection: {collection} to minio\")\n",
    "    except Exception as e:\n",
    "        print(f\"Error pushing collection {collection} to minio: {e}\")\n"
   ]
  }
 ],
 "metadata": {
  "kernelspec": {
   "display_name": "Python 3 (ipykernel)",
   "language": "python",
   "name": "python3"
  },
  "language_info": {
   "codemirror_mode": {
    "name": "ipython",
    "version": 3
   },
   "file_extension": ".py",
   "mimetype": "text/x-python",
   "name": "python",
   "nbconvert_exporter": "python",
   "pygments_lexer": "ipython3",
   "version": "3.11.7"
  }
 },
 "nbformat": 4,
 "nbformat_minor": 5
}

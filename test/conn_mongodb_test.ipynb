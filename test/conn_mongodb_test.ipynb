{
 "cells": [
  {
   "cell_type": "code",
   "execution_count": 1,
   "id": "7957727d-9f53-4c82-be47-6201ac694ccd",
   "metadata": {},
   "outputs": [],
   "source": [
    "import pyspark\n",
    "from pyspark import SparkContext\n",
    "from pyspark.sql import SparkSession\n",
    "from pyspark.sql import SQLContext"
   ]
  },
  {
   "cell_type": "code",
   "execution_count": 2,
   "id": "37d4a3a4-feef-47ce-a897-625c83eefda7",
   "metadata": {},
   "outputs": [],
   "source": [
    "spark = SparkSession.builder \\\n",
    "    .config(\"spark.jars.packages\", \"org.mongodb.spark:mongo-spark-connector_2.12:3.0.1\") \\\n",
    "    .config(\"spark.driver.maxResultSize\", \"2g\") \\\n",
    "    .appName(\"Test\") \\\n",
    "    .getOrCreate()"
   ]
  },
  {
   "cell_type": "code",
   "execution_count": 3,
   "id": "0118c741-a8ce-4d99-91c8-2e24d51f567e",
   "metadata": {},
   "outputs": [
    {
     "name": "stdout",
     "output_type": "stream",
     "text": [
      "3.5.2\n"
     ]
    }
   ],
   "source": [
    "print(pyspark.__version__)"
   ]
  },
  {
   "cell_type": "code",
   "execution_count": 4,
   "id": "b2c3635a-60a5-4a6c-9b44-880c259efd1e",
   "metadata": {},
   "outputs": [],
   "source": [
    "mongo_url = 'mongodb://127.0.0.1/'"
   ]
  },
  {
   "cell_type": "code",
   "execution_count": 5,
   "id": "ed774a6f-7918-4e57-853f-6e4fa26708fa",
   "metadata": {},
   "outputs": [],
   "source": [
    "bronze_df = spark.read.format(\"com.mongodb.spark.sql.DefaultSource\") \\\n",
    ".option('spark.mongodb.input.uri', mongo_url) \\\n",
    ".option('spark.mongodb.input.database', 'yelp_dataset') \\\n",
    ".option('spark.mongodb.input.collection', 'business') \\\n",
    ".load()"
   ]
  },
  {
   "cell_type": "code",
   "execution_count": 6,
   "id": "7ff9e2cb-1683-4123-b947-3a498087e5e3",
   "metadata": {},
   "outputs": [
    {
     "data": {
      "text/plain": [
       "[Row(_id=Row(oid='66c75165a7efb9dc95dda7e0'), address='1616 Chapala St, Ste 2', attributes=Row(AcceptsInsurance=None, AgesAllowed=None, Alcohol=None, Ambience=None, BYOB=None, BYOBCorkage=None, BestNights=None, BikeParking=None, BusinessAcceptsBitcoin=None, BusinessAcceptsCreditCards=None, BusinessParking=None, ByAppointmentOnly='True', Caters=None, CoatCheck=None, Corkage=None, DogsAllowed=None, DriveThru=None, GoodForDancing=None, GoodForKids=None, GoodForMeal=None, HairSpecializesIn=None, HappyHour=None, HasTV=None, Music=None, NoiseLevel=None, Open24Hours=None, OutdoorSeating=None, RestaurantsAttire=None, RestaurantsDelivery=None, RestaurantsGoodForGroups=None, RestaurantsPriceRange2=None, RestaurantsReservations=None, RestaurantsTableService=None, RestaurantsTakeOut=None, Smoking=None, WheelchairAccessible=None, WiFi=None), business_id='Pns2l4eNsfO8kk83dixA6A', categories='Doctors, Traditional Chinese Medicine, Naturopathic/Holistic, Acupuncture, Health & Medical, Nutritionists', city='Santa Barbara', hours=None, is_open=0, latitude=34.4266787, longitude=-119.7111968, name='Abby Rappoport, LAC, CMQ', postal_code='93101', review_count=7, stars=5.0, state='CA'),\n",
       " Row(_id=Row(oid='66c75165a7efb9dc95dda7e1'), address='87 Grasso Plaza Shopping Center', attributes=Row(AcceptsInsurance=None, AgesAllowed=None, Alcohol=None, Ambience=None, BYOB=None, BYOBCorkage=None, BestNights=None, BikeParking=None, BusinessAcceptsBitcoin=None, BusinessAcceptsCreditCards='True', BusinessParking=None, ByAppointmentOnly=None, Caters=None, CoatCheck=None, Corkage=None, DogsAllowed=None, DriveThru=None, GoodForDancing=None, GoodForKids=None, GoodForMeal=None, HairSpecializesIn=None, HappyHour=None, HasTV=None, Music=None, NoiseLevel=None, Open24Hours=None, OutdoorSeating=None, RestaurantsAttire=None, RestaurantsDelivery=None, RestaurantsGoodForGroups=None, RestaurantsPriceRange2=None, RestaurantsReservations=None, RestaurantsTableService=None, RestaurantsTakeOut=None, Smoking=None, WheelchairAccessible=None, WiFi=None), business_id='mpf3x-BjTdTEA3yCZrAYPw', categories='Shipping Centers, Local Services, Notaries, Mailbox Centers, Printing Services', city='Affton', hours=Row(Friday='8:0-18:30', Monday='0:0-0:0', Saturday='8:0-14:0', Sunday=None, Thursday='8:0-18:30', Tuesday='8:0-18:30', Wednesday='8:0-18:30'), is_open=1, latitude=38.551126, longitude=-90.335695, name='The UPS Store', postal_code='63123', review_count=15, stars=3.0, state='MO'),\n",
       " Row(_id=Row(oid='66c75165a7efb9dc95dda7e2'), address='8901 US 31 S', attributes=Row(AcceptsInsurance=None, AgesAllowed=None, Alcohol=\"'none'\", Ambience=\"{'touristy': None, 'hipster': None, 'romantic': False, 'divey': None, 'intimate': None, 'trendy': None, 'upscale': None, 'classy': None, 'casual': True}\", BYOB=None, BYOBCorkage=None, BestNights=None, BikeParking='False', BusinessAcceptsBitcoin=None, BusinessAcceptsCreditCards='True', BusinessParking=\"{'garage': None, 'street': False, 'validated': None, 'lot': True, 'valet': False}\", ByAppointmentOnly=None, Caters=None, CoatCheck=None, Corkage=None, DogsAllowed=None, DriveThru=None, GoodForDancing=None, GoodForKids='True', GoodForMeal=\"{'dessert': False, 'latenight': False, 'lunch': False, 'dinner': False, 'brunch': False, 'breakfast': False}\", HairSpecializesIn=None, HappyHour=None, HasTV='True', Music=None, NoiseLevel=None, Open24Hours=None, OutdoorSeating='False', RestaurantsAttire=\"'casual'\", RestaurantsDelivery='True', RestaurantsGoodForGroups='True', RestaurantsPriceRange2='1', RestaurantsReservations='False', RestaurantsTableService=None, RestaurantsTakeOut='True', Smoking=None, WheelchairAccessible=None, WiFi=\"u'no'\"), business_id='il_Ro8jwPlHresjw9EGmBg', categories='American (Traditional), Restaurants, Diners, Breakfast & Brunch', city='Indianapolis', hours=Row(Friday='6:0-22:0', Monday='6:0-22:0', Saturday='6:0-22:0', Sunday='6:0-22:0', Thursday='6:0-22:0', Tuesday='6:0-22:0', Wednesday='6:0-22:0'), is_open=1, latitude=39.6371332838, longitude=-86.127217412, name=\"Denny's\", postal_code='46227', review_count=28, stars=2.5, state='IN'),\n",
       " Row(_id=Row(oid='66c75165a7efb9dc95dda7e3'), address='', attributes=Row(AcceptsInsurance=None, AgesAllowed=None, Alcohol=\"'none'\", Ambience=\"{'touristy': False, 'hipster': False, 'romantic': False, 'divey': False, 'intimate': False, 'trendy': False, 'upscale': False, 'classy': False, 'casual': False}\", BYOB=None, BYOBCorkage=None, BestNights=None, BikeParking=None, BusinessAcceptsBitcoin=None, BusinessAcceptsCreditCards=None, BusinessParking=\"{'garage': False, 'street': False, 'validated': False, 'lot': False, 'valet': False}\", ByAppointmentOnly=None, Caters=None, CoatCheck=None, Corkage=None, DogsAllowed=None, DriveThru=None, GoodForDancing=None, GoodForKids=None, GoodForMeal=\"{'dessert': False, 'latenight': False, 'lunch': False, 'dinner': False, 'brunch': False, 'breakfast': False}\", HairSpecializesIn=None, HappyHour=None, HasTV=None, Music=None, NoiseLevel=None, Open24Hours=None, OutdoorSeating='None', RestaurantsAttire=None, RestaurantsDelivery=None, RestaurantsGoodForGroups=None, RestaurantsPriceRange2=None, RestaurantsReservations='False', RestaurantsTableService=None, RestaurantsTakeOut=None, Smoking=None, WheelchairAccessible=None, WiFi=None), business_id='eEOYSgkmpB90uNA7lDOMRA', categories='Vietnamese, Food, Restaurants, Food Trucks', city='Tampa Bay', hours=Row(Friday='11:0-14:0', Monday='11:0-14:0', Saturday='5:0-10:0', Sunday='15:0-18:0', Thursday='11:0-14:0', Tuesday='11:0-14:0', Wednesday='11:0-14:0'), is_open=1, latitude=27.9552692, longitude=-82.4563199, name='Vietnamese Food Truck', postal_code='33602', review_count=10, stars=4.0, state='FL'),\n",
       " Row(_id=Row(oid='66c75165a7efb9dc95dda7e4'), address='5255 E Broadway Blvd', attributes=Row(AcceptsInsurance=None, AgesAllowed=None, Alcohol=None, Ambience=None, BYOB=None, BYOBCorkage=None, BestNights=None, BikeParking='True', BusinessAcceptsBitcoin=None, BusinessAcceptsCreditCards='True', BusinessParking=\"{'garage': False, 'street': False, 'validated': False, 'lot': True, 'valet': False}\", ByAppointmentOnly='False', Caters='False', CoatCheck='False', Corkage=None, DogsAllowed='False', DriveThru=None, GoodForDancing=None, GoodForKids=None, GoodForMeal=None, HairSpecializesIn=None, HappyHour='False', HasTV='False', Music=None, NoiseLevel=None, Open24Hours=None, OutdoorSeating='False', RestaurantsAttire=None, RestaurantsDelivery='False', RestaurantsGoodForGroups=None, RestaurantsPriceRange2='2', RestaurantsReservations='False', RestaurantsTableService=None, RestaurantsTakeOut='False', Smoking=None, WheelchairAccessible='True', WiFi=\"u'no'\"), business_id='tUFrWirKiKi_TAnsVWINQQ', categories='Department Stores, Shopping, Fashion, Home & Garden, Electronics, Furniture Stores', city='Tucson', hours=Row(Friday='8:0-23:0', Monday='8:0-22:0', Saturday='8:0-23:0', Sunday='8:0-22:0', Thursday='8:0-22:0', Tuesday='8:0-22:0', Wednesday='8:0-22:0'), is_open=0, latitude=32.223236, longitude=-110.880452, name='Target', postal_code='85711', review_count=22, stars=3.5, state='AZ')]"
      ]
     },
     "execution_count": 6,
     "metadata": {},
     "output_type": "execute_result"
    }
   ],
   "source": [
    "bronze_df.head(5)"
   ]
  }
 ],
 "metadata": {
  "kernelspec": {
   "display_name": "Python 3 (ipykernel)",
   "language": "python",
   "name": "python3"
  },
  "language_info": {
   "codemirror_mode": {
    "name": "ipython",
    "version": 3
   },
   "file_extension": ".py",
   "mimetype": "text/x-python",
   "name": "python",
   "nbconvert_exporter": "python",
   "pygments_lexer": "ipython3",
   "version": "3.11.7"
  }
 },
 "nbformat": 4,
 "nbformat_minor": 5
}
